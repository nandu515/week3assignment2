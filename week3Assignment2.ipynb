{
 "cells": [
  {
   "cell_type": "code",
   "execution_count": 36,
   "id": "87f3c53b-64a7-409f-8832-2a79a1144210",
   "metadata": {},
   "outputs": [
    {
     "name": "stdout",
     "output_type": "stream",
     "text": [
      "[('Virat Kohli', 24936), ('Jack Kallis', 25534), ('Ricky Ponting', 27483), ('Sachin Tendulkar', 34357)]\n"
     ]
    }
   ],
   "source": [
    "#Q1. Create a python program to sort the given list of tuples based on integer value using a lambda function [('Sachin Tendulkar', 34357), ('Ricky Ponting', 27483), ('Jack Kallis', 25534), ('Virat Kohli', 24936)]\n",
    "list0=[('Sachin Tendulkar', 34357), ('Ricky Ponting', 27483), ('Jack Kallis', 25534), ('Virat Kohli', 24936)] \n",
    "list0.sort(key=lambda x:x[1]) \n",
    "print(list0)\n",
    "#sort=lambda y:sort(list[i][1]),list\n",
    "#print(sort)\n",
    "#print(list1[1][1])\n"
   ]
  },
  {
   "cell_type": "code",
   "execution_count": 1,
   "id": "6e04d626-1010-40c8-9743-4d5c7c025b39",
   "metadata": {},
   "outputs": [
    {
     "data": {
      "text/plain": [
       "[1, 4, 9, 16, 25, 36, 49, 64, 81, 100]"
      ]
     },
     "execution_count": 1,
     "metadata": {},
     "output_type": "execute_result"
    }
   ],
   "source": [
    "#Q2. Write a Python Program to find the squares of all the numbers in the given list of integers using lambda and map functions.[1, 2, 3, 4, 5, 6, 7, 8, 9, 10]\n",
    "list1=[1, 2, 3, 4, 5, 6, 7, 8, 9, 10]\n",
    "list(map(lambda x:x**2, list1))\n",
    "\n"
   ]
  },
  {
   "cell_type": "code",
   "execution_count": 15,
   "id": "de40368f-a914-471f-8090-9c2d8f26d3d8",
   "metadata": {},
   "outputs": [
    {
     "data": {
      "text/plain": [
       "('1', '2', '3', '4', '5', '6', '7', '8', '9', '10')"
      ]
     },
     "execution_count": 15,
     "metadata": {},
     "output_type": "execute_result"
    }
   ],
   "source": [
    "#Q3. Write a python program to convert the given list of integers into a tuple of strings. Use map and lambda functions\n",
    "\n",
    "#Given String: [1, 2, 3, 4, 5, 6, 7, 8, 9, 10]\n",
    "#Expected output: ('1', '2', '3', '4', '5', '6', '7', '8', '9', '10')\n",
    "\n",
    "slist=[1,2,3,4,5,6,7,8,9,10]\n",
    "tuple(map(lambda x:str(x),slist))"
   ]
  },
  {
   "cell_type": "code",
   "execution_count": 20,
   "id": "1c644b3f-7e06-439e-91d8-128d046d1933",
   "metadata": {},
   "outputs": [
    {
     "data": {
      "text/plain": [
       "325"
      ]
     },
     "execution_count": 20,
     "metadata": {},
     "output_type": "execute_result"
    }
   ],
   "source": [
    "#Q4.  Write a python program using reduce function to compute the product of a list containing numbers from 1 to 25.\n",
    "\n",
    "list2=[]\n",
    "for i in range(1,26):\n",
    "    list2.append(i)\n",
    "from functools import reduce\n",
    "reduce(lambda a,b:a+b,list2)\n",
    "    \n",
    "    "
   ]
  },
  {
   "cell_type": "code",
   "execution_count": 3,
   "id": "cd5bb537-000c-400e-bfbe-4556906e04ec",
   "metadata": {},
   "outputs": [
    {
     "data": {
      "text/plain": [
       "[6, 60, 90, 120]"
      ]
     },
     "execution_count": 3,
     "metadata": {},
     "output_type": "execute_result"
    }
   ],
   "source": [
    "#Q5. Write a python program to filter the numbers in a given list that are divisible by 2 and 3 using the filter function.[2, 3, 6, 9, 27, 60, 90, 120, 55, 46]\n",
    "fil=[2,3,6,9,27,60,90,120,55,46]\n",
    "\n",
    "(list(filter(lambda x : x%2==0 and x%3==0,fil)))"
   ]
  },
  {
   "cell_type": "code",
   "execution_count": 1,
   "id": "ab6cb728-815c-46b1-aff3-6c390ef42ff1",
   "metadata": {},
   "outputs": [
    {
     "data": {
      "text/plain": [
       "['php', 'aba', 'radar', 'level']"
      ]
     },
     "execution_count": 1,
     "metadata": {},
     "output_type": "execute_result"
    }
   ],
   "source": [
    "#Q6. Write a python program to find palindromes in the given list of strings using lambda and filter function.['python', 'php', 'aba', 'radar', 'level']\n",
    "lis=['python', 'php', 'aba', 'radar', 'level']\n",
    "fi=[]\n",
    "\"\"\"for i in range(len(lis)):\n",
    "    if (lis[i])==lis[i][::-1]:\n",
    "        #print('palindrome')\n",
    "        fi.append(lis[i])\n",
    "print(fi)\"\"\"\n",
    "list(filter(lambda x : x==x[::-1], lis))\n",
    "          "
   ]
  },
  {
   "cell_type": "code",
   "execution_count": null,
   "id": "2b56692e-cabb-4b65-b19e-17a24eede786",
   "metadata": {},
   "outputs": [],
   "source": []
  }
 ],
 "metadata": {
  "kernelspec": {
   "display_name": "Python 3 (ipykernel)",
   "language": "python",
   "name": "python3"
  },
  "language_info": {
   "codemirror_mode": {
    "name": "ipython",
    "version": 3
   },
   "file_extension": ".py",
   "mimetype": "text/x-python",
   "name": "python",
   "nbconvert_exporter": "python",
   "pygments_lexer": "ipython3",
   "version": "3.10.8"
  }
 },
 "nbformat": 4,
 "nbformat_minor": 5
}
